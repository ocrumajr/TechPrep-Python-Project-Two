{
 "cells": [
  {
   "cell_type": "code",
   "execution_count": 34,
   "id": "82738eca",
   "metadata": {},
   "outputs": [],
   "source": [
    "\"\"\"\n",
    "Grading System\n",
    "A program to give rating based on students grade\n",
    "Calculates the average of the given grades, then gives rating based on the Final Grade\n",
    "\"\"\"\n",
    "\n",
    "# Imports\n",
    "import pandas as pd\n",
    "\n",
    "# Create a rating function\n",
    "def rating(final_grade):\n",
    "    if final_grade > 90:\n",
    "        return(\"A+\")\n",
    "    elif final_grade > 80:\n",
    "        return(\"A\")\n",
    "    elif final_grade > 70:\n",
    "        return(\"B\")\n",
    "    elif final_grade > 60:\n",
    "        return(\"C\")\n",
    "    elif final_grade > 55:\n",
    "        return(\"D\")\n",
    "    else:   # For grades equal to 55 and below\n",
    "        return(\"F\")\n",
    "\n",
    "# Read the CSV file and load it to a dataframe\n",
    "df_student_grades = pd.read_csv(\"Grades_Short.csv\")\n",
    "\n",
    "# Calculate the average of the grades, and create a new column\n",
    "# Used iloc to filter the grades, then applied mean function with axis of 1 to calculate by column\n",
    "# Applied round() function to limit decimal to 2\n",
    "df_student_grades[\"Final_Grade\"]  =  round(df_student_grades.loc[:,\"Assignment_1\":\"Final_Exam\"].mean(1), 2)\n",
    "\n",
    "# Create a new column to rate the FINAL grade\n",
    "# Sliced the final grade then compare to provide rating\n",
    "df_student_grades[\"Rating\"] = df_student_grades[\"Final_Grade\"].apply(rating)\n",
    "\n",
    "# Save the grades to a new CSV on the same path as the program\n",
    "df_student_grades.to_csv(\"New_Grades.csv\")\n"
   ]
  }
 ],
 "metadata": {
  "kernelspec": {
   "display_name": "Python 3",
   "language": "python",
   "name": "python3"
  },
  "language_info": {
   "codemirror_mode": {
    "name": "ipython",
    "version": 3
   },
   "file_extension": ".py",
   "mimetype": "text/x-python",
   "name": "python",
   "nbconvert_exporter": "python",
   "pygments_lexer": "ipython3",
   "version": "3.12.10"
  }
 },
 "nbformat": 4,
 "nbformat_minor": 5
}
